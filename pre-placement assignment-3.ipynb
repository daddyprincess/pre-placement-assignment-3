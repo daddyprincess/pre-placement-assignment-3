{
 "cells": [
  {
   "cell_type": "markdown",
   "id": "975df546-4a9c-43c6-ae25-aee81c10d607",
   "metadata": {},
   "source": [
    "## 1.three sum closest algorithm"
   ]
  },
  {
   "cell_type": "code",
   "execution_count": null,
   "id": "3b49e6e6-9266-4737-b540-c84ff66ab0ca",
   "metadata": {},
   "outputs": [],
   "source": [
    "def threeSumClosest(nums,target):\n",
    "    nums.sort() # sort the array  in ascending order\n",
    "    closestsum = float('inf') \n",
    "    \n",
    "    for i in range (len(nums)-2):\n",
    "        left = i+1\n",
    "        right = len(nums)-1\n",
    "        \n",
    "        while  left < right:\n",
    "            currentsum = nums[i] + nums[left] + nums [right]\n",
    "            \n",
    "            if abs(currentsum-target) < abs(closestsum-target):\n",
    "                closestsum = currentsum\n",
    "            \n",
    "            if currentSum < target:\n",
    "                left += 1\n",
    "            elif currentsum > target:\n",
    "                right -=1\n",
    "            else:\n",
    "                return target\n",
    "            \n",
    "    return closestsum\n",
    "\n",
    "num = [-1,2,1,-4]\n",
    "target = 1\n",
    "result = threeSumClosest(nums,target)\n",
    "print(result)     \n",
    "#output:2"
   ]
  },
  {
   "cell_type": "markdown",
   "id": "68bd05ae-fc0f-40c6-801f-dc51b2fef70c",
   "metadata": {},
   "source": [
    "2"
   ]
  },
  {
   "cell_type": "code",
   "execution_count": null,
   "id": "fef3044c-30a0-479a-a228-61216e72a841",
   "metadata": {},
   "outputs": [],
   "source": [
    "-Sort the array 'nums' in ascending order. This step helps us in efficiency finding the closest sum.\n",
    "-Intialize a variable 'closersum' to store the current closest sum.Set it to a large value initially.\n",
    "-Iterate through the array  'nums' from index 0 to 'n-3':\n",
    "    ~Within this iteration,set two pointers :\n",
    "        ~'left' pointing to i+1\n",
    "        ~'right' pointing to the last element.\n",
    "    ~While 'left' is less than 'right',calculate the sum of 'num[i]','num[left','num[right]'.\n",
    "    ~If the absoulte difference between the current sum and the target is smaller than the absolute difference between the \n",
    "      'closestsum' and the target, update 'closestsum' to the currentsum.\n",
    "    ~If the current sum is less than the target, increment 'left' by 1 to try a larger number.\n",
    "    ~If the current sum is greater than the target,decrement 'right' by 1 to try a smaller number.\n",
    "    ~If the current sum is equal to the target, return thr target as we have found an exact match.\n",
    "-After the iteration, return 'closestsum' as the result."
   ]
  },
  {
   "cell_type": "markdown",
   "id": "ead00dc6-6924-49cc-a500-4e1fdf6cf2aa",
   "metadata": {},
   "source": [
    "## 2.four sum"
   ]
  },
  {
   "cell_type": "code",
   "execution_count": null,
   "id": "f0937777-e3e7-4689-a36e-8f0737437db6",
   "metadata": {},
   "outputs": [],
   "source": [
    "if fourSum(nums,target):\n",
    "    nums.sort()\n",
    "    n = len(nums)\n",
    "    nums = []\n",
    "    \n",
    "    for i in range(n-3):\n",
    "        if i>0 and nums[i] == nums[i-1]:\n",
    "            continue\n",
    "            \n",
    "        for j in range(i+1, n-2):\n",
    "            if j> i+1 and nums[j] == nums[j-1]:\n",
    "                continue\n",
    "                \n",
    "            left = j+1\n",
    "            right = n-1\n",
    "            \n",
    "            while left < right:\n",
    "                currentsum = nums[i] +nums[j]+nums[left]+nums[right]\n",
    "                \n",
    "                if currentsum == target:\n",
    "                    result.append([nums[i],nums[j],nums[left],nums[right]])\n",
    "                    while left < right and nums[right] == nums[left+1]:\n",
    "                        left += 1\n",
    "                    while left < right and nums[right] == nums[right-1]:\n",
    "                        right -= 1\n",
    "                    left += 1\n",
    "                    right -= 1\n",
    "                elif currentsum < target:\n",
    "                    left +=1\n",
    "                else:\n",
    "                    right -= 1\n",
    "    \n",
    "    return result\n",
    "    \n",
    "\n",
    "nums = [1,0,-1,0,-2,2]\n",
    "target = 0\n",
    "\n",
    "result = fourSum(nums,target)\n",
    "print(result)"
   ]
  },
  {
   "cell_type": "markdown",
   "id": "d497573c-ccc5-4d8c-ad32-78520d8e711a",
   "metadata": {},
   "source": [
    "##### 2"
   ]
  },
  {
   "cell_type": "markdown",
   "id": "e25d297b-9659-4089-80b9-e9fd6193992a",
   "metadata": {},
   "source": [
    "## 3.next premutation"
   ]
  },
  {
   "cell_type": "code",
   "execution_count": null,
   "id": "e202809c-f201-4258-9705-29e23cf98858",
   "metadata": {},
   "outputs": [],
   "source": [
    "def nextPermutation(nums):\n",
    "    n = len(nums)\n",
    "    i = n-2\n",
    "    \n",
    "    # find the first pair of adjacent elements where num[i] <num[i+1]\n",
    "    while i >= 0 and nums[i] >= nums[i+1]:\n",
    "        i -= 1\n",
    "        \n",
    "    if i >= 0:\n",
    "        #find the smallest element greater than nums[i]\n",
    "        j = n-1\n",
    "        while j > i and nums[j] <= nums[i]:\n",
    "            j -= 1\n",
    "            \n",
    "        #swap nums[i] and nums[j]\n",
    "        nums[i],nums[j] = nums[j], nums[i]\n",
    "        \n",
    "    # reverse the subarraynums[i+1:]\n",
    "    left = i+1\n",
    "    right = n-1\n",
    "    while left< right:\n",
    "        nums[left]. nums[right] = nums[right],nums[left]\n",
    "        left +=1\n",
    "        right -=1\n",
    "        \n",
    "    return nums\n",
    "\n",
    "nums = [1,2,3]\n",
    "result = nextPremutation(nums)\n",
    "print(result)"
   ]
  },
  {
   "cell_type": "markdown",
   "id": "67a2523f-d74a-4700-ab3b-d216a25ca177",
   "metadata": {},
   "source": [
    "##### [1, 3, 2]"
   ]
  },
  {
   "cell_type": "markdown",
   "id": "8983237b-4c25-4c24-83ff-ed4f103a872c",
   "metadata": {},
   "source": [
    "## 4.search insert"
   ]
  },
  {
   "cell_type": "code",
   "execution_count": 15,
   "id": "aee4a2d0-fa83-438d-bfea-9eb0d7179c4e",
   "metadata": {},
   "outputs": [
    {
     "name": "stdout",
     "output_type": "stream",
     "text": [
      "2\n"
     ]
    }
   ],
   "source": [
    "def searchInsert(nums,target):\n",
    "    left = 0\n",
    "    right = len(nums)-1\n",
    "    \n",
    "    while left <= right:\n",
    "        mid = (left + right)//2\n",
    "        \n",
    "        if nums[mid] == target:\n",
    "            return mid\n",
    "        \n",
    "        if target < nums[mid]:\n",
    "            right = mid-1\n",
    "        else:\n",
    "            left = mid+1\n",
    "            \n",
    "    return left\n",
    "\n",
    "nums =[1,3,5,6]\n",
    "target = 5\n",
    "result = searchInsert(nums,target)\n",
    "print(result)"
   ]
  },
  {
   "cell_type": "markdown",
   "id": "3401820b-f038-4ebb-bae5-0b1f6083c7f4",
   "metadata": {},
   "source": [
    "## 5.plus one"
   ]
  },
  {
   "cell_type": "code",
   "execution_count": 17,
   "id": "7814f361-b4b0-40bc-8c4e-0e7a75eaf867",
   "metadata": {},
   "outputs": [
    {
     "name": "stdout",
     "output_type": "stream",
     "text": [
      "[1, 2, 4]\n"
     ]
    }
   ],
   "source": [
    "def plusOne(digits):\n",
    "    carry = 1\n",
    "    \n",
    "    for i in range(len(digits)-1,-1,-1):\n",
    "        digit_sum = digits[i] + carry\n",
    "        digits[i] = digit_sum % 10\n",
    "        carry = digit_sum //10\n",
    "        \n",
    "        if carry == 0:\n",
    "            break\n",
    "    \n",
    "    if carry != 0:\n",
    "        digits.insert(0,carry)\n",
    "        \n",
    "    return digits\n",
    "\n",
    "digits = [1,2,3]\n",
    "result = plusOne(digits)\n",
    "print(result)\n",
    "    \n"
   ]
  },
  {
   "cell_type": "code",
   "execution_count": null,
   "id": "b27149b7-dbcf-4812-bf0c-594ac2be5ea2",
   "metadata": {},
   "outputs": [],
   "source": [
    "-Intialize a carry variable with a value of 1 to represent the increment.\n",
    "- transverse the array from right to left using a loop:\n",
    "    ~Add the carry to the current digit.\n",
    "    ~calculate the new digit by taking the modules of the sum with 10.\n",
    "    ~update the carry by dividing the sum by 10.\n",
    "    ~update the current digit in the array with the new digit.\n",
    "    ~If the carry becomes 0, there is no need to continue iterating,so break out of the loop.\n",
    "-After the loop ends, if the carry is still non-zero, it means there was an additional digit created during the increment\n",
    " .Append the carry value to the beginning of the array.\n",
    "-Return the modified array."
   ]
  },
  {
   "cell_type": "markdown",
   "id": "a3e9b1cb-ac7d-462a-9278-7b38810f2f45",
   "metadata": {},
   "source": [
    "## 6.single number"
   ]
  },
  {
   "cell_type": "code",
   "execution_count": 18,
   "id": "50bd44db-9c8a-415f-bfa2-eb4b7e9db8bb",
   "metadata": {},
   "outputs": [
    {
     "name": "stdout",
     "output_type": "stream",
     "text": [
      "1\n"
     ]
    }
   ],
   "source": [
    "def singleNumber(nums):\n",
    "    result = 0\n",
    "    \n",
    "    for num in nums:\n",
    "        result^= num\n",
    "        \n",
    "    return result\n",
    "\n",
    "nums = [2,2,1]\n",
    "result = singleNumber(nums)\n",
    "print(result)"
   ]
  },
  {
   "cell_type": "markdown",
   "id": "65478a1f-a0bb-44a5-8f4b-9d042c076d42",
   "metadata": {},
   "source": [
    "## 7.find missing ranges"
   ]
  },
  {
   "cell_type": "code",
   "execution_count": 3,
   "id": "b8fc7c81-9e73-4fe7-a860-db5d4addeb77",
   "metadata": {},
   "outputs": [
    {
     "name": "stdout",
     "output_type": "stream",
     "text": [
      "[[0, 99], [0, 0], [2, 99], [2, 2], [4, 99], [4, 49], [51, 99], [51, 74], [76, 99]]\n"
     ]
    }
   ],
   "source": [
    "def findMissingRanges(nums,lower,upper):\n",
    "    result = []\n",
    "    prev = lower-1\n",
    "    \n",
    "    for num in nums:\n",
    "        if num > prev+1:\n",
    "            result.append([prev +1, num-1])\n",
    "            prev = num\n",
    "            \n",
    "        if prev < upper:\n",
    "            result.append([prev+1,upper])\n",
    "            \n",
    "    return result\n",
    "\n",
    "nums = [0,1,3,50,75]\n",
    "lower = 0\n",
    "upper = 99\n",
    "result = findMissingRanges(nums,lower,upper)\n",
    "print(result)         "
   ]
  },
  {
   "cell_type": "code",
   "execution_count": null,
   "id": "87e752a7-b8a9-4e02-bb78-276af86c155b",
   "metadata": {},
   "outputs": [],
   "source": [
    "- Intialize an empty list 'result' to store the ranges.\n",
    "- Intialize a variable 'prev' with the value 'lower-1'. This represents the previous number in the iteration and helps \n",
    "  track the missing numbers\n",
    "-Iterate through each number 'num' in the array 'nums':\n",
    "    ~check if 'num' is greater than 'prev + 1'.If it is, we have identified a range of missing numbers.\n",
    "    ~if the difference betwen 'num' and 'prev' is greater than 1, append the range '[prev +1, num -1]' to 'result'.\n",
    "    ~Update 'prev' to the current number 'num'.\n",
    "-After the loop ends, check if 'prev' is less than 'upper'. If it is, there are missing numbers from 'prev+1' to 'upper'.\n",
    " Append the range '[prev + 1, upper]' to 'result'.\n",
    "-Return the 'result' list containing allthe ranges."
   ]
  },
  {
   "cell_type": "markdown",
   "id": "552bc998-2616-4483-9fd7-2889031a1e53",
   "metadata": {},
   "source": [
    "## 8.can attend meetings"
   ]
  },
  {
   "cell_type": "code",
   "execution_count": 1,
   "id": "37bd656c-5281-40e4-a8b2-5d299def6990",
   "metadata": {},
   "outputs": [
    {
     "name": "stdout",
     "output_type": "stream",
     "text": [
      "False\n"
     ]
    }
   ],
   "source": [
    "def canAttendMeetings(intervals):\n",
    "    intervals.sort(key=lambda x: x[0])\n",
    "    \n",
    "    for i in range(1,len(intervals)):\n",
    "        if intervals[i][0] < intervals[i-1][1]:\n",
    "            return False\n",
    "        \n",
    "    return True\n",
    "\n",
    "intervals = [[0,30],[5,10],[15,20]]\n",
    "result = canAttendMeetings(intervals)\n",
    "print(result)"
   ]
  }
 ],
 "metadata": {
  "kernelspec": {
   "display_name": "Python 3 (ipykernel)",
   "language": "python",
   "name": "python3"
  },
  "language_info": {
   "codemirror_mode": {
    "name": "ipython",
    "version": 3
   },
   "file_extension": ".py",
   "mimetype": "text/x-python",
   "name": "python",
   "nbconvert_exporter": "python",
   "pygments_lexer": "ipython3",
   "version": "3.10.8"
  }
 },
 "nbformat": 4,
 "nbformat_minor": 5
}
